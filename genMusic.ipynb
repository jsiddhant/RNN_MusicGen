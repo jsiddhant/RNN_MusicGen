{
 "cells": [
  {
   "cell_type": "code",
   "execution_count": 42,
   "metadata": {},
   "outputs": [],
   "source": [
    "from datetime import datetime as dt\n",
    "import itertools\n",
    "import numpy as np\n",
    "import os\n",
    "import pickle\n",
    "import torch\n",
    "from torch import nn\n",
    "from torch.optim import Adam\n",
    "from torch.utils.data import Dataset, DataLoader\n",
    "\n",
    "from lstm import LSTM\n",
    "from music_dataloader import create_split_loaders\n",
    "from torch_utils import setup_device\n",
    "\n",
    "from train_eval_utils import *"
   ]
  },
  {
   "cell_type": "code",
   "execution_count": 50,
   "metadata": {},
   "outputs": [],
   "source": [
    "def sample_lstm(dictionary, sample_len = 100, model_path='models/lstm.pt', start_char = '<start>', temperature = 1, num_nodes = 100):\n",
    "    \n",
    "    out_list = []\n",
    "    # Load Model\n",
    "    model = LSTM(len(dictionary), num_nodes, len(dictionary), computing_device, 1)\n",
    "    model.load_state_dict(torch.load(model_path))\n",
    "    model.eval()\n",
    "    model.reset_state()\n",
    "    \n",
    "    #Init Starting Sample\n",
    "    current_sequence_input = torch.zeros(1, 1, len(dictionary))\n",
    "    current_sequence_input [0,0,dictionary.class_to_index[start_char]]=1\n",
    "    current_sequence_input = current_sequence_input.to(computing_device)\n",
    "    \n",
    "    out_list.append(start_char)\n",
    "    \n",
    "    for i in range(sample_len):\n",
    "        \n",
    "        output = model(current_sequence_input)\n",
    "        probabilities = nn.functional.softmax(output.div(temperature), dim=2)\n",
    "        prob = probabilities.data.cpu().numpy().flatten().astype('float64')\n",
    "        prob = prob / prob.sum()\n",
    "        out_ind = np.argmax(np.random.multinomial(1, prob, size=1)[0])\n",
    "#         out_list.append(dictionary.index_to_class[torch.argmax(probabilities.data)])\n",
    "        out_list.append(dictionary.index_to_class[out_ind])\n",
    "\n",
    "        current_sequence_input = torch.zeros(1, 1, len(dictionary))\n",
    "        current_sequence_input [0,0,dictionary.class_to_index[start_char]]=1\n",
    "        current_sequence_input = current_sequence_input.to(computing_device)\n",
    "    \n",
    "    return out_list\n",
    "    "
   ]
  },
  {
   "cell_type": "code",
   "execution_count": 84,
   "metadata": {},
   "outputs": [],
   "source": [
    "num_nodes = 50\n",
    "model_path = 'training_logs/models_50/50nodes.pt'\n",
    "temp = 1\n",
    "sample_len = 100"
   ]
  },
  {
   "cell_type": "code",
   "execution_count": 85,
   "metadata": {},
   "outputs": [
    {
     "name": "stdout",
     "output_type": "stream",
     "text": [
      "CUDA is supported\n"
     ]
    }
   ],
   "source": [
    "seq_length = 100\n",
    "\n",
    "computing_device = setup_device()\n",
    "train_loader, val_loader, test_loader, dictionary = create_split_loaders(seq_length)\n"
   ]
  },
  {
   "cell_type": "code",
   "execution_count": 86,
   "metadata": {},
   "outputs": [
    {
     "name": "stdout",
     "output_type": "stream",
     "text": [
      "<start>\n",
      "\n",
      "\n",
      "\n",
      "@v\n",
      "\n",
      "@\n",
      "@@@@@@@@@@@@@@\n",
      "@\n",
      "@@@@@@@@@@\n",
      "\n",
      "\n",
      "@\n",
      "@@@@@@@@@@@\n",
      "@\n",
      "@@@@@@@@@@\n",
      "\n",
      "@@\n",
      "@@@@@@@@@@@\n",
      "@@@@@@@@@@@@@@@\n",
      "@\n"
     ]
    }
   ],
   "source": [
    "samp = sample_lstm(dictionary,sample_len, model_path, '<start>', temp ,num_nodes)\n",
    "print(\"\".join(samp))"
   ]
  },
  {
   "cell_type": "code",
   "execution_count": null,
   "metadata": {},
   "outputs": [],
   "source": []
  }
 ],
 "metadata": {
  "kernelspec": {
   "display_name": "Python 3",
   "language": "python",
   "name": "python3"
  },
  "language_info": {
   "codemirror_mode": {
    "name": "ipython",
    "version": 3
   },
   "file_extension": ".py",
   "mimetype": "text/x-python",
   "name": "python",
   "nbconvert_exporter": "python",
   "pygments_lexer": "ipython3",
   "version": "3.6.8"
  }
 },
 "nbformat": 4,
 "nbformat_minor": 2
}
