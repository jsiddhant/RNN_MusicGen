{
 "cells": [
  {
   "cell_type": "code",
   "execution_count": null,
   "metadata": {},
   "outputs": [],
   "source": [
    "import pickle\n",
    "import numpy as np\n",
    "import matplotlib.pyplot as plt"
   ]
  },
  {
   "cell_type": "code",
   "execution_count": null,
   "metadata": {},
   "outputs": [],
   "source": [
    "train_file = '50nodes_train.pkl'\n",
    "val_file = '50nodes_val.pkl'\n",
    "\n",
    "\n",
    "val_loss = pickle.load(open(val_file,'rb'))\n",
    "train_loss = pickle.load(open(train_file, 'rb'))\n"
   ]
  },
  {
   "cell_type": "code",
   "execution_count": null,
   "metadata": {},
   "outputs": [],
   "source": [
    "# we get average loss values for each epoch\n",
    "\n",
    "val_ = []\n",
    "for vv in list(val_loss.values())[:-1]:\n",
    "    val_+=[np.mean(list(np.array(vv).ravel()))]\n",
    "\n",
    "\n",
    "train_ = []\n",
    "for vv in list(train_loss.values())[:-1]:\n",
    "    train_+=[np.mean(list(np.array(vv).ravel()))]\n",
    "\n",
    "num_epochs = min(len(val_), len(train_))"
   ]
  },
  {
   "cell_type": "code",
   "execution_count": null,
   "metadata": {},
   "outputs": [],
   "source": [
    "plt.figure(figsize=(10,7))\n",
    "plt.plot(list(range(1,num_epochs+1)), train_[0:num_epochs] , label='train loss')\n",
    "plt.plot(list(range(1,num_epochs+1)), val_[0:num_epochs] , label = 'validation loss')\n",
    "plt.ylabel('loss')\n",
    "plt.xlabel('epochs')\n",
    "plt.title('Training model with 50 LSTM hidden units')\n",
    "plt.legend()\n"
   ]
  },
  {
   "cell_type": "code",
   "execution_count": null,
   "metadata": {},
   "outputs": [],
   "source": []
  },
  {
   "cell_type": "code",
   "execution_count": null,
   "metadata": {},
   "outputs": [],
   "source": []
  }
 ],
 "metadata": {
  "kernelspec": {
   "display_name": "Python 3",
   "language": "python",
   "name": "python3"
  },
  "language_info": {
   "codemirror_mode": {
    "name": "ipython",
    "version": 3
   },
   "file_extension": ".py",
   "mimetype": "text/x-python",
   "name": "python",
   "nbconvert_exporter": "python",
   "pygments_lexer": "ipython3",
   "version": "3.6.8"
  }
 },
 "nbformat": 4,
 "nbformat_minor": 2
}
